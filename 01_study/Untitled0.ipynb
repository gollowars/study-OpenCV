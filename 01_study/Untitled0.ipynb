{
 "metadata": {
  "name": "",
  "signature": "sha256:2c3917530a6af477a89665034242267058887231b90f4d1250730333caf1ad93"
 },
 "nbformat": 3,
 "nbformat_minor": 0,
 "worksheets": [
  {
   "cells": [
    {
     "cell_type": "markdown",
     "metadata": {},
     "source": [
      "# Notobook Sample"
     ]
    },
    {
     "cell_type": "code",
     "collapsed": false,
     "input": [
      "print(\"hello world\");"
     ],
     "language": "python",
     "metadata": {},
     "outputs": [
      {
       "output_type": "stream",
       "stream": "stdout",
       "text": [
        "hello world\n"
       ]
      }
     ],
     "prompt_number": 1
    },
    {
     "cell_type": "code",
     "collapsed": false,
     "input": [
      "import cv2,matplotlib"
     ],
     "language": "python",
     "metadata": {},
     "outputs": [],
     "prompt_number": 2
    },
    {
     "cell_type": "code",
     "collapsed": false,
     "input": [
      "import numpy as np\n",
      "import matplotlib.pyplot as plt\n"
     ],
     "language": "python",
     "metadata": {},
     "outputs": [],
     "prompt_number": 3
    },
    {
     "cell_type": "code",
     "collapsed": false,
     "input": [
      "img = cv2.imread('sample.png')"
     ],
     "language": "python",
     "metadata": {},
     "outputs": [],
     "prompt_number": 4
    },
    {
     "cell_type": "code",
     "collapsed": false,
     "input": [
      "print(img);"
     ],
     "language": "python",
     "metadata": {},
     "outputs": [
      {
       "output_type": "stream",
       "stream": "stdout",
       "text": [
        "[[[128 161 195]\n",
        "  [129 161 196]\n",
        "  [128 160 195]\n",
        "  ..., \n",
        "  [126 161 198]\n",
        "  [126 160 197]\n",
        "  [127 160 199]]\n",
        "\n",
        " [[127 159 194]\n",
        "  [129 161 196]\n",
        "  [129 161 196]\n",
        "  ..., \n",
        "  [124 159 196]\n",
        "  [123 158 195]\n",
        "  [125 158 197]]\n",
        "\n",
        " [[129 159 194]\n",
        "  [128 160 195]\n",
        "  [130 162 197]\n",
        "  ..., \n",
        "  [125 159 198]\n",
        "  [125 159 198]\n",
        "  [125 158 197]]\n",
        "\n",
        " ..., \n",
        " [[ 36  51  64]\n",
        "  [ 36  51  64]\n",
        "  [ 37  52  65]\n",
        "  ..., \n",
        "  [ 42  57  69]\n",
        "  [ 44  59  71]\n",
        "  [ 48  63  75]]\n",
        "\n",
        " [[ 37  52  65]\n",
        "  [ 37  52  65]\n",
        "  [ 37  52  65]\n",
        "  ..., \n",
        "  [ 42  57  69]\n",
        "  [ 44  59  71]\n",
        "  [ 47  62  75]]\n",
        "\n",
        " [[ 37  52  65]\n",
        "  [ 37  52  65]\n",
        "  [ 35  50  63]\n",
        "  ..., \n",
        "  [ 42  57  69]\n",
        "  [ 43  58  70]\n",
        "  [ 43  58  71]]]\n"
       ]
      }
     ],
     "prompt_number": 5
    },
    {
     "cell_type": "code",
     "collapsed": false,
     "input": [
      "plt.imshow(img)"
     ],
     "language": "python",
     "metadata": {},
     "outputs": [
      {
       "metadata": {},
       "output_type": "pyout",
       "prompt_number": 6,
       "text": [
        "<matplotlib.image.AxesImage at 0x10e26ac50>"
       ]
      }
     ],
     "prompt_number": 6
    },
    {
     "cell_type": "code",
     "collapsed": false,
     "input": [
      "img = cv2.cvtColor(img, cv2.COLOR_BGR2RGB)"
     ],
     "language": "python",
     "metadata": {},
     "outputs": [],
     "prompt_number": 7
    },
    {
     "cell_type": "code",
     "collapsed": false,
     "input": [
      "plt.imshow(img)"
     ],
     "language": "python",
     "metadata": {},
     "outputs": [
      {
       "metadata": {},
       "output_type": "pyout",
       "prompt_number": 8,
       "text": [
        "<matplotlib.image.AxesImage at 0x10e27d550>"
       ]
      }
     ],
     "prompt_number": 8
    },
    {
     "cell_type": "code",
     "collapsed": false,
     "input": [],
     "language": "python",
     "metadata": {},
     "outputs": []
    }
   ],
   "metadata": {}
  }
 ]
}